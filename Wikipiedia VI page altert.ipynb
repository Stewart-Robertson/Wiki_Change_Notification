{
 "cells": [
  {
   "cell_type": "code",
   "execution_count": 13,
   "metadata": {},
   "outputs": [
    {
     "ename": "KeyboardInterrupt",
     "evalue": "",
     "output_type": "error",
     "traceback": [
      "\u001b[0;31m---------------------------------------------------------------------------\u001b[0m",
      "\u001b[0;31mKeyboardInterrupt\u001b[0m                         Traceback (most recent call last)",
      "Input \u001b[0;32mIn [13]\u001b[0m, in \u001b[0;36m<cell line: 45>\u001b[0;34m()\u001b[0m\n\u001b[1;32m     43\u001b[0m             last_revision_id \u001b[38;5;241m=\u001b[39m current_revision_id\n\u001b[1;32m     45\u001b[0m \u001b[38;5;28;01mif\u001b[39;00m \u001b[38;5;18m__name__\u001b[39m \u001b[38;5;241m==\u001b[39m \u001b[38;5;124m\"\u001b[39m\u001b[38;5;124m__main__\u001b[39m\u001b[38;5;124m\"\u001b[39m:\n\u001b[0;32m---> 46\u001b[0m     \u001b[43mmonitor_wikipedia_page\u001b[49m\u001b[43m(\u001b[49m\u001b[43minterval\u001b[49m\u001b[38;5;241;43m=\u001b[39;49m\u001b[38;5;241;43m60\u001b[39;49m\u001b[43m \u001b[49m\u001b[38;5;241;43m*\u001b[39;49m\u001b[43m \u001b[49m\u001b[38;5;241;43m60\u001b[39;49m\u001b[43m)\u001b[49m  \u001b[38;5;66;03m# Check every hour\u001b[39;00m\n",
      "Input \u001b[0;32mIn [13]\u001b[0m, in \u001b[0;36mmonitor_wikipedia_page\u001b[0;34m(interval)\u001b[0m\n\u001b[1;32m     36\u001b[0m last_revision_id \u001b[38;5;241m=\u001b[39m get_latest_revision_id()\n\u001b[1;32m     37\u001b[0m \u001b[38;5;28;01mwhile\u001b[39;00m \u001b[38;5;28;01mTrue\u001b[39;00m:\n\u001b[0;32m---> 38\u001b[0m     \u001b[43mtime\u001b[49m\u001b[38;5;241;43m.\u001b[39;49m\u001b[43msleep\u001b[49m\u001b[43m(\u001b[49m\u001b[43minterval\u001b[49m\u001b[43m)\u001b[49m\n\u001b[1;32m     39\u001b[0m     current_revision_id \u001b[38;5;241m=\u001b[39m get_latest_revision_id()\n\u001b[1;32m     40\u001b[0m     \u001b[38;5;28;01mif\u001b[39;00m current_revision_id \u001b[38;5;241m!=\u001b[39m last_revision_id:\n",
      "\u001b[0;31mKeyboardInterrupt\u001b[0m: "
     ]
    }
   ],
   "source": [
    "import requests\n",
    "import time\n",
    "import configparser\n",
    "from urllib.parse import quote\n",
    "\n",
    "# Wikipedia page to monitor\n",
    "WIKIPEDIA_PAGE = \"Opinion_polling_for_the_2024_United_Kingdom_general_election\"\n",
    "API_URL = f\"https://en.wikipedia.org/w/api.php?action=query&prop=revisions&titles={quote(WIKIPEDIA_PAGE)}&rvlimit=1&format=json\"\n",
    "\n",
    "# Slack configuration\n",
    "config = configparser.ConfigParser()\n",
    "config.read('config.ini')\n",
    "SLACK_WEBHOOK_URL = config['Slack']['SLACK_WEBHOOK_URL']\n",
    "\n",
    "# Get the latest revision id of the wiki page\n",
    "def get_latest_revision_id():\n",
    "    response = requests.get(API_URL)\n",
    "    data = response.json()\n",
    "    pages = data['query']['pages']\n",
    "    for page_id in pages:\n",
    "        revision_id = pages[page_id]['revisions'][0]['revid']\n",
    "        return revision_id\n",
    "    return None\n",
    "\n",
    "def send_slack_notification():\n",
    "    message = {\n",
    "        \"text\": f\"The Wikipedia page '{WIKIPEDIA_PAGE.replace('_', ' ')}' has been updated. Check it out here: https://en.wikipedia.org/wiki/{WIKIPEDIA_PAGE}\"\n",
    "    }\n",
    "    response = requests.post(SLACK_WEBHOOK_URL, json=message)\n",
    "    if response.status_code == 200:\n",
    "        print(\"Slack notification sent successfully\")\n",
    "    else:\n",
    "        print(f\"Failed to send Slack notification: {response.status_code}\")\n",
    "\n",
    "def monitor_wikipedia_page(interval=60):\n",
    "    last_revision_id = get_latest_revision_id()\n",
    "    while True:\n",
    "        time.sleep(interval)\n",
    "        current_revision_id = get_latest_revision_id()\n",
    "        if current_revision_id != last_revision_id:\n",
    "            print(f\"Change detected! Revision ID: {current_revision_id}\")\n",
    "            send_slack_notification()\n",
    "            last_revision_id = current_revision_id\n",
    "\n",
    "if __name__ == \"__main__\":\n",
    "    monitor_wikipedia_page(interval=60 * 60)  # Check every hour\n"
   ]
  },
  {
   "cell_type": "code",
   "execution_count": null,
   "metadata": {},
   "outputs": [],
   "source": []
  }
 ],
 "metadata": {
  "kernelspec": {
   "display_name": "RWSPDF",
   "language": "python",
   "name": "python3"
  },
  "language_info": {
   "codemirror_mode": {
    "name": "ipython",
    "version": 3
   },
   "file_extension": ".py",
   "mimetype": "text/x-python",
   "name": "python",
   "nbconvert_exporter": "python",
   "pygments_lexer": "ipython3",
   "version": "3.8.18"
  }
 },
 "nbformat": 4,
 "nbformat_minor": 2
}
